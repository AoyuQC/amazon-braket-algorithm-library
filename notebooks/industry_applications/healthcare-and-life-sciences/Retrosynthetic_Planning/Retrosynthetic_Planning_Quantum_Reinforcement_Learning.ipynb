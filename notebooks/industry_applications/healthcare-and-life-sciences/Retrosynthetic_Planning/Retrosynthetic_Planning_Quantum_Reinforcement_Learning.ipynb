{
 "cells": [
  {
   "cell_type": "markdown",
   "id": "f68bfd93",
   "metadata": {},
   "source": [
    "# Retrosynthetic Planning Using Quantum Reinforcement Learning\n",
    "\n",
    "In this notebook, we demonstrate how to solve the problem of retrosynthetic planning using quantum reinforcement learning. This problem can be modeled as a one-player game. The chemist works backwards from a molecular target to simpler materials. The choice should come from the reliable reactions between materials [1].\n",
    "\n",
    "![retro-plan](./images/retro-plan.png)\n",
    "\n",
    "This problem can be challenging since there may be tens of thousands of combinations. In addition, the value of\n",
    "each choice remains uncertain until the whole synthesis plan is completed. Some researchers tried to solve this problem using deep reinforcement learning. They modeled the problem this way:\n",
    "\n",
    "![model-retro](./images/model-retro.png)\n",
    "\n",
    "Chemical modelcules are illustrated as circles where different color represents different type of molecules.\n",
    "Orange circle represents the molecular target. The reactions need to be found so that the chemist can start \n",
    "from commercially available substrate which are red circles there. Then, after some reactions and intermediate molecules, the molecular target can be synthesized. Reactions are squares in this graph. For example, with substrates $m_9$ and $m_{10}$, the intermediate $ m_4 $ and be synthesized through reaction $ r_3 $.\n",
    "\n",
    "However, there are some rules to follow in this scenario:\n",
    "\n",
    "* The synthesis cost should be minimized. According to the following cost equation, the cost $ c_{tot} $\n",
    "equals the cost of chosen reactions, $ c_{rxn}(r) $, plus the cost of chosen intermediate molecules \n",
    "and substrate molecules, $ c_{sub}(m) $. The number inside circles or squares is cost. In this example, the\n",
    "target molecule $ m_0 $ is synthesized at the cost of 5 because of reaction $ r_0 $, intermediate molecules $ m_1 $ and $ m_3 $. The cost of $ m_2 $ comes from the sum of\n",
    " reaction $ r_1 $ and intermediate molecule $ m_4 $.\n",
    "\n",
    "<center>\n",
    "\n",
    "$ c_{tot} = \\sum \\limits _{r} c_{rxn}(r) + \\sum \\limits _{m} c_{sub}(m) $\n",
    "\n",
    "</center>\n",
    "\n",
    "* All commercially available substrates are assigned zero cost.\n",
    "* If the molecules without possible reactions are reached, a cost penalty of 100 is assigned. These \n",
    "dead-end molecule are represented as red circles there. \n",
    "* The reaction steps are represented as depth $ d $ there. If a molecule with maximum depth is reached, a cost penalty of 10 is assigned. In this example, the molecule with $ d_{max} = 10 $ is represented as purple circl.\n",
    "\n",
    "All the above modeling method comes from [2], these parameters can be adjusted according to actual application.\n",
    "The core part in [2] is a multilayer neural network illustrated schematically in the following image. In this \n",
    "notebook we will show how to use quantum neural network with fewer parameters to achieve the similar results in an open source dataset.\n",
    "\n",
    "![cc-nn](./images/cc-nn.png)\n",
    "\n",
    "\n",
    "[1] Wiki [Retrosynthetic analysis](https://en.wikipedia.org/wiki/Retrosynthetic_analysis).\n",
    "\n",
    "[2] [Schreck, John S., Connor W. Coley, and Kyle JM Bishop. \"Learning retrosynthetic planning through simulated experience.\" ACS central science 5.6 (2019): 970-981.](https://pubs.acs.org/doi/10.1021/acscentsci.9b00055)."
   ]
  },
  {
   "cell_type": "markdown",
   "id": "0709eda5",
   "metadata": {},
   "source": [
    "### Data preparation"
   ]
  },
  {
   "cell_type": "markdown",
   "id": "87e71a52",
   "metadata": {},
   "source": [
    "USPTO (United States Patent and Trademark Office) 50K consists of 50K extracted atom-mapped reactions with 10 reaction types.\n",
    "The dataset [USPTO-50K](https://tdcommons.ai/generation_tasks/retrosyn/#uspto-50k) is used in this experiment. The whole dataset is put together and used for plannning task."
   ]
  },
  {
   "cell_type": "code",
   "execution_count": 1,
   "id": "50decf0a",
   "metadata": {},
   "outputs": [
    {
     "name": "stderr",
     "output_type": "stream",
     "text": [
      "Found local copy...\n",
      "Loading...\n",
      "Done!\n"
     ]
    }
   ],
   "source": [
    "# Load the uspto-50k data\n",
    "from tdc.generation import RetroSyn\n",
    "\n",
    "data = RetroSyn(name = 'USPTO-50K')\n",
    "split = data.get_split()"
   ]
  },
  {
   "cell_type": "code",
   "execution_count": 2,
   "id": "a948c49a",
   "metadata": {},
   "outputs": [
    {
     "data": {
      "text/html": [
       "<div>\n",
       "<style scoped>\n",
       "    .dataframe tbody tr th:only-of-type {\n",
       "        vertical-align: middle;\n",
       "    }\n",
       "\n",
       "    .dataframe tbody tr th {\n",
       "        vertical-align: top;\n",
       "    }\n",
       "\n",
       "    .dataframe thead th {\n",
       "        text-align: right;\n",
       "    }\n",
       "</style>\n",
       "<table border=\"1\" class=\"dataframe\">\n",
       "  <thead>\n",
       "    <tr style=\"text-align: right;\">\n",
       "      <th></th>\n",
       "      <th>input</th>\n",
       "      <th>output</th>\n",
       "    </tr>\n",
       "  </thead>\n",
       "  <tbody>\n",
       "    <tr>\n",
       "      <th>0</th>\n",
       "      <td>COC(=O)CCC(=O)c1ccc(OC2CCCCO2)cc1O</td>\n",
       "      <td>C1=COCCC1.COC(=O)CCC(=O)c1ccc(O)cc1O</td>\n",
       "    </tr>\n",
       "    <tr>\n",
       "      <th>1</th>\n",
       "      <td>COC(=O)c1cccc(-c2nc3cccnc3[nH]2)c1</td>\n",
       "      <td>COC(=O)c1cccc(C(=O)O)c1.Nc1cccnc1N</td>\n",
       "    </tr>\n",
       "  </tbody>\n",
       "</table>\n",
       "</div>"
      ],
      "text/plain": [
       "                                input                                output\n",
       "0  COC(=O)CCC(=O)c1ccc(OC2CCCCO2)cc1O  C1=COCCC1.COC(=O)CCC(=O)c1ccc(O)cc1O\n",
       "1  COC(=O)c1cccc(-c2nc3cccnc3[nH]2)c1    COC(=O)c1cccc(C(=O)O)c1.Nc1cccnc1N"
      ]
     },
     "execution_count": 2,
     "metadata": {},
     "output_type": "execute_result"
    }
   ],
   "source": [
    "# Let's explore how this data looks like\n",
    "split['train'].head(2)"
   ]
  },
  {
   "cell_type": "markdown",
   "id": "2ab7c839-e439-4a58-8ef1-d3b5c72fa602",
   "metadata": {},
   "source": [
    "The data only contains input and output columns since this is for prediction task. We decide to put all these \n",
    "data together to make something like target, intermediate, substrate and dead-end molecules."
   ]
  },
  {
   "cell_type": "code",
   "execution_count": 3,
   "id": "504024fd-f4ee-4e01-b6cb-89bae37019b3",
   "metadata": {},
   "outputs": [],
   "source": [
    "from braket.experimental.algorithms.qc_qrl.utility.DataPrepare import Prepare"
   ]
  },
  {
   "cell_type": "code",
   "execution_count": 4,
   "id": "ad7757d5",
   "metadata": {},
   "outputs": [
    {
     "name": "stdout",
     "output_type": "stream",
     "text": [
      "mkdir: cannot create directory ‘data’: File exists\n",
      "mkdir: cannot create directory ‘datasmiles’: File exists\n",
      "--2024-01-07 00:41:03--  https://d1o8djwwk7diqy.cloudfront.net/retrosynthetic-plannin-dataset.zip\n",
      "Resolving d1o8djwwk7diqy.cloudfront.net (d1o8djwwk7diqy.cloudfront.net)... 99.84.71.174, 99.84.71.69, 99.84.71.146, ...\n",
      "Connecting to d1o8djwwk7diqy.cloudfront.net (d1o8djwwk7diqy.cloudfront.net)|99.84.71.174|:443... connected.\n",
      "HTTP request sent, awaiting response... 200 OK\n",
      "Length: 3841896 (3.7M) [application/zip]\n",
      "Saving to: ‘retrosynthetic-plannin-dataset.zip’\n",
      "\n",
      "retrosynthetic-plan 100%[===================>]   3.66M  8.07MB/s    in 0.5s    \n",
      "\n",
      "2024-01-07 00:41:04 (8.07 MB/s) - ‘retrosynthetic-plannin-dataset.zip’ saved [3841896/3841896]\n",
      "\n",
      "Archive:  retrosynthetic-plannin-dataset.zip\n",
      "  inflating: retrosynthetic-planning-dataset/buyable.npy  \n",
      "  inflating: retrosynthetic-planning-dataset/target_product.npy  \n",
      "  inflating: retrosynthetic-planning-dataset/reactions_dictionary.npy  \n",
      "  inflating: retrosynthetic-planning-dataset/smiles_map.npy  \n",
      "  inflating: retrosynthetic-planning-dataset/ground_truth.npy  \n",
      "  inflating: retrosynthetic-planning-dataset/Deadend.npy  \n",
      "  inflating: retrosynthetic-planning-dataset/uspto50k.xlsx  \n",
      "  inflating: retrosynthetic-planning-dataset/smiles_dictionary.npy  \n"
     ]
    }
   ],
   "source": [
    "data_path = 'data'\n",
    "# download dateset\n",
    "!mkdir $data_path\n",
    "!mkdir $data_path\\smiles\n",
    "!wget https://d1o8djwwk7diqy.cloudfront.net/retrosynthetic-plannin-dataset.zip\n",
    "!unzip -o retrosynthetic-plannin-dataset.zip\n",
    "\n",
    "# linux\n",
    "!cp -r retrosynthetic-planning-dataset/* $data_path\n",
    "!cp data/smiles_map.npy  data/smiles\n",
    "!rm retrosynthetic-plannin-dataset.zip "
   ]
  },
  {
   "cell_type": "markdown",
   "id": "104dc1c9",
   "metadata": {},
   "source": [
    "## Prepare parameters for classical and quantum experiments"
   ]
  },
  {
   "cell_type": "code",
   "execution_count": 9,
   "id": "e3d95d1e-f827-4ffa-8b58-c4406924a37a",
   "metadata": {},
   "outputs": [
    {
     "name": "stdout",
     "output_type": "stream",
     "text": [
      "Requirement already satisfied: PyTDC==0.4.1 in /home/ubuntu/pytorch_gpu_base_ubuntu_uw2_workplace/anaconda3/envs/qc-braket/lib/python3.10/site-packages (from -r requirement.txt (line 1)) (0.4.1)\n",
      "Requirement already satisfied: torch==2.1.0 in /home/ubuntu/pytorch_gpu_base_ubuntu_uw2_workplace/anaconda3/envs/qc-braket/lib/python3.10/site-packages (from -r requirement.txt (line 2)) (2.1.0)\n",
      "Requirement already satisfied: rdkit==2023.9.2 in /home/ubuntu/pytorch_gpu_base_ubuntu_uw2_workplace/anaconda3/envs/qc-braket/lib/python3.10/site-packages (from -r requirement.txt (line 3)) (2023.9.2)\n",
      "Collecting python-dotenv==1.0.0 (from -r requirement.txt (line 4))\n",
      "  Using cached python_dotenv-1.0.0-py3-none-any.whl (19 kB)\n",
      "Requirement already satisfied: rdkit-pypi in /home/ubuntu/pytorch_gpu_base_ubuntu_uw2_workplace/anaconda3/envs/qc-braket/lib/python3.10/site-packages (from PyTDC==0.4.1->-r requirement.txt (line 1)) (2022.9.5)\n",
      "Requirement already satisfied: fuzzywuzzy in /home/ubuntu/pytorch_gpu_base_ubuntu_uw2_workplace/anaconda3/envs/qc-braket/lib/python3.10/site-packages (from PyTDC==0.4.1->-r requirement.txt (line 1)) (0.18.0)\n",
      "Requirement already satisfied: numpy in /home/ubuntu/pytorch_gpu_base_ubuntu_uw2_workplace/anaconda3/envs/qc-braket/lib/python3.10/site-packages (from PyTDC==0.4.1->-r requirement.txt (line 1)) (1.25.2)\n",
      "Requirement already satisfied: pandas in /home/ubuntu/pytorch_gpu_base_ubuntu_uw2_workplace/anaconda3/envs/qc-braket/lib/python3.10/site-packages (from PyTDC==0.4.1->-r requirement.txt (line 1)) (2.1.4)\n",
      "Requirement already satisfied: tqdm in /home/ubuntu/pytorch_gpu_base_ubuntu_uw2_workplace/anaconda3/envs/qc-braket/lib/python3.10/site-packages (from PyTDC==0.4.1->-r requirement.txt (line 1)) (4.66.1)\n",
      "Requirement already satisfied: scikit-learn in /home/ubuntu/pytorch_gpu_base_ubuntu_uw2_workplace/anaconda3/envs/qc-braket/lib/python3.10/site-packages (from PyTDC==0.4.1->-r requirement.txt (line 1)) (1.3.2)\n",
      "Requirement already satisfied: seaborn in /home/ubuntu/pytorch_gpu_base_ubuntu_uw2_workplace/anaconda3/envs/qc-braket/lib/python3.10/site-packages (from PyTDC==0.4.1->-r requirement.txt (line 1)) (0.13.0)\n",
      "Requirement already satisfied: requests in /home/ubuntu/pytorch_gpu_base_ubuntu_uw2_workplace/anaconda3/envs/qc-braket/lib/python3.10/site-packages (from PyTDC==0.4.1->-r requirement.txt (line 1)) (2.31.0)\n",
      "Requirement already satisfied: huggingface-hub in /home/ubuntu/pytorch_gpu_base_ubuntu_uw2_workplace/anaconda3/envs/qc-braket/lib/python3.10/site-packages (from PyTDC==0.4.1->-r requirement.txt (line 1)) (0.20.1)\n",
      "Requirement already satisfied: dataclasses in /home/ubuntu/pytorch_gpu_base_ubuntu_uw2_workplace/anaconda3/envs/qc-braket/lib/python3.10/site-packages (from PyTDC==0.4.1->-r requirement.txt (line 1)) (0.6)\n",
      "Requirement already satisfied: filelock in /home/ubuntu/pytorch_gpu_base_ubuntu_uw2_workplace/anaconda3/envs/qc-braket/lib/python3.10/site-packages (from torch==2.1.0->-r requirement.txt (line 2)) (3.13.1)\n",
      "Requirement already satisfied: typing-extensions in /home/ubuntu/pytorch_gpu_base_ubuntu_uw2_workplace/anaconda3/envs/qc-braket/lib/python3.10/site-packages (from torch==2.1.0->-r requirement.txt (line 2)) (4.9.0)\n",
      "Requirement already satisfied: sympy in /home/ubuntu/pytorch_gpu_base_ubuntu_uw2_workplace/anaconda3/envs/qc-braket/lib/python3.10/site-packages (from torch==2.1.0->-r requirement.txt (line 2)) (1.12)\n",
      "Requirement already satisfied: networkx in /home/ubuntu/pytorch_gpu_base_ubuntu_uw2_workplace/anaconda3/envs/qc-braket/lib/python3.10/site-packages (from torch==2.1.0->-r requirement.txt (line 2)) (3.2.1)\n",
      "Requirement already satisfied: jinja2 in /home/ubuntu/pytorch_gpu_base_ubuntu_uw2_workplace/anaconda3/envs/qc-braket/lib/python3.10/site-packages (from torch==2.1.0->-r requirement.txt (line 2)) (3.1.2)\n",
      "Requirement already satisfied: fsspec in /home/ubuntu/pytorch_gpu_base_ubuntu_uw2_workplace/anaconda3/envs/qc-braket/lib/python3.10/site-packages (from torch==2.1.0->-r requirement.txt (line 2)) (2023.12.2)\n",
      "Requirement already satisfied: nvidia-cuda-nvrtc-cu12==12.1.105 in /home/ubuntu/pytorch_gpu_base_ubuntu_uw2_workplace/anaconda3/envs/qc-braket/lib/python3.10/site-packages (from torch==2.1.0->-r requirement.txt (line 2)) (12.1.105)\n",
      "Requirement already satisfied: nvidia-cuda-runtime-cu12==12.1.105 in /home/ubuntu/pytorch_gpu_base_ubuntu_uw2_workplace/anaconda3/envs/qc-braket/lib/python3.10/site-packages (from torch==2.1.0->-r requirement.txt (line 2)) (12.1.105)\n",
      "Requirement already satisfied: nvidia-cuda-cupti-cu12==12.1.105 in /home/ubuntu/pytorch_gpu_base_ubuntu_uw2_workplace/anaconda3/envs/qc-braket/lib/python3.10/site-packages (from torch==2.1.0->-r requirement.txt (line 2)) (12.1.105)\n",
      "Requirement already satisfied: nvidia-cudnn-cu12==8.9.2.26 in /home/ubuntu/pytorch_gpu_base_ubuntu_uw2_workplace/anaconda3/envs/qc-braket/lib/python3.10/site-packages (from torch==2.1.0->-r requirement.txt (line 2)) (8.9.2.26)\n",
      "Requirement already satisfied: nvidia-cublas-cu12==12.1.3.1 in /home/ubuntu/pytorch_gpu_base_ubuntu_uw2_workplace/anaconda3/envs/qc-braket/lib/python3.10/site-packages (from torch==2.1.0->-r requirement.txt (line 2)) (12.1.3.1)\n",
      "Requirement already satisfied: nvidia-cufft-cu12==11.0.2.54 in /home/ubuntu/pytorch_gpu_base_ubuntu_uw2_workplace/anaconda3/envs/qc-braket/lib/python3.10/site-packages (from torch==2.1.0->-r requirement.txt (line 2)) (11.0.2.54)\n",
      "Requirement already satisfied: nvidia-curand-cu12==10.3.2.106 in /home/ubuntu/pytorch_gpu_base_ubuntu_uw2_workplace/anaconda3/envs/qc-braket/lib/python3.10/site-packages (from torch==2.1.0->-r requirement.txt (line 2)) (10.3.2.106)\n",
      "Requirement already satisfied: nvidia-cusolver-cu12==11.4.5.107 in /home/ubuntu/pytorch_gpu_base_ubuntu_uw2_workplace/anaconda3/envs/qc-braket/lib/python3.10/site-packages (from torch==2.1.0->-r requirement.txt (line 2)) (11.4.5.107)\n",
      "Requirement already satisfied: nvidia-cusparse-cu12==12.1.0.106 in /home/ubuntu/pytorch_gpu_base_ubuntu_uw2_workplace/anaconda3/envs/qc-braket/lib/python3.10/site-packages (from torch==2.1.0->-r requirement.txt (line 2)) (12.1.0.106)\n",
      "Requirement already satisfied: nvidia-nccl-cu12==2.18.1 in /home/ubuntu/pytorch_gpu_base_ubuntu_uw2_workplace/anaconda3/envs/qc-braket/lib/python3.10/site-packages (from torch==2.1.0->-r requirement.txt (line 2)) (2.18.1)\n",
      "Requirement already satisfied: nvidia-nvtx-cu12==12.1.105 in /home/ubuntu/pytorch_gpu_base_ubuntu_uw2_workplace/anaconda3/envs/qc-braket/lib/python3.10/site-packages (from torch==2.1.0->-r requirement.txt (line 2)) (12.1.105)\n",
      "Requirement already satisfied: triton==2.1.0 in /home/ubuntu/pytorch_gpu_base_ubuntu_uw2_workplace/anaconda3/envs/qc-braket/lib/python3.10/site-packages (from torch==2.1.0->-r requirement.txt (line 2)) (2.1.0)\n",
      "Requirement already satisfied: Pillow in /home/ubuntu/pytorch_gpu_base_ubuntu_uw2_workplace/anaconda3/envs/qc-braket/lib/python3.10/site-packages (from rdkit==2023.9.2->-r requirement.txt (line 3)) (10.1.0)\n",
      "Requirement already satisfied: nvidia-nvjitlink-cu12 in /home/ubuntu/pytorch_gpu_base_ubuntu_uw2_workplace/anaconda3/envs/qc-braket/lib/python3.10/site-packages (from nvidia-cusolver-cu12==11.4.5.107->torch==2.1.0->-r requirement.txt (line 2)) (12.3.101)\n",
      "Requirement already satisfied: pyyaml>=5.1 in /home/ubuntu/pytorch_gpu_base_ubuntu_uw2_workplace/anaconda3/envs/qc-braket/lib/python3.10/site-packages (from huggingface-hub->PyTDC==0.4.1->-r requirement.txt (line 1)) (6.0.1)\n",
      "Requirement already satisfied: packaging>=20.9 in /home/ubuntu/pytorch_gpu_base_ubuntu_uw2_workplace/anaconda3/envs/qc-braket/lib/python3.10/site-packages (from huggingface-hub->PyTDC==0.4.1->-r requirement.txt (line 1)) (23.2)\n",
      "Requirement already satisfied: MarkupSafe>=2.0 in /home/ubuntu/pytorch_gpu_base_ubuntu_uw2_workplace/anaconda3/envs/qc-braket/lib/python3.10/site-packages (from jinja2->torch==2.1.0->-r requirement.txt (line 2)) (2.1.3)\n",
      "Requirement already satisfied: python-dateutil>=2.8.2 in /home/ubuntu/pytorch_gpu_base_ubuntu_uw2_workplace/anaconda3/envs/qc-braket/lib/python3.10/site-packages (from pandas->PyTDC==0.4.1->-r requirement.txt (line 1)) (2.8.2)\n",
      "Requirement already satisfied: pytz>=2020.1 in /home/ubuntu/pytorch_gpu_base_ubuntu_uw2_workplace/anaconda3/envs/qc-braket/lib/python3.10/site-packages (from pandas->PyTDC==0.4.1->-r requirement.txt (line 1)) (2023.3.post1)\n",
      "Requirement already satisfied: tzdata>=2022.1 in /home/ubuntu/pytorch_gpu_base_ubuntu_uw2_workplace/anaconda3/envs/qc-braket/lib/python3.10/site-packages (from pandas->PyTDC==0.4.1->-r requirement.txt (line 1)) (2023.3)\n",
      "Requirement already satisfied: charset-normalizer<4,>=2 in /home/ubuntu/pytorch_gpu_base_ubuntu_uw2_workplace/anaconda3/envs/qc-braket/lib/python3.10/site-packages (from requests->PyTDC==0.4.1->-r requirement.txt (line 1)) (3.3.2)\n",
      "Requirement already satisfied: idna<4,>=2.5 in /home/ubuntu/pytorch_gpu_base_ubuntu_uw2_workplace/anaconda3/envs/qc-braket/lib/python3.10/site-packages (from requests->PyTDC==0.4.1->-r requirement.txt (line 1)) (3.6)\n",
      "Requirement already satisfied: urllib3<3,>=1.21.1 in /home/ubuntu/pytorch_gpu_base_ubuntu_uw2_workplace/anaconda3/envs/qc-braket/lib/python3.10/site-packages (from requests->PyTDC==0.4.1->-r requirement.txt (line 1)) (2.0.7)\n",
      "Requirement already satisfied: certifi>=2017.4.17 in /home/ubuntu/pytorch_gpu_base_ubuntu_uw2_workplace/anaconda3/envs/qc-braket/lib/python3.10/site-packages (from requests->PyTDC==0.4.1->-r requirement.txt (line 1)) (2023.11.17)\n",
      "Requirement already satisfied: scipy>=1.5.0 in /home/ubuntu/pytorch_gpu_base_ubuntu_uw2_workplace/anaconda3/envs/qc-braket/lib/python3.10/site-packages (from scikit-learn->PyTDC==0.4.1->-r requirement.txt (line 1)) (1.9.3)\n",
      "Requirement already satisfied: joblib>=1.1.1 in /home/ubuntu/pytorch_gpu_base_ubuntu_uw2_workplace/anaconda3/envs/qc-braket/lib/python3.10/site-packages (from scikit-learn->PyTDC==0.4.1->-r requirement.txt (line 1)) (1.3.2)\n",
      "Requirement already satisfied: threadpoolctl>=2.0.0 in /home/ubuntu/pytorch_gpu_base_ubuntu_uw2_workplace/anaconda3/envs/qc-braket/lib/python3.10/site-packages (from scikit-learn->PyTDC==0.4.1->-r requirement.txt (line 1)) (3.2.0)\n",
      "Requirement already satisfied: matplotlib!=3.6.1,>=3.3 in /home/ubuntu/pytorch_gpu_base_ubuntu_uw2_workplace/anaconda3/envs/qc-braket/lib/python3.10/site-packages (from seaborn->PyTDC==0.4.1->-r requirement.txt (line 1)) (3.8.2)\n",
      "Requirement already satisfied: mpmath>=0.19 in /home/ubuntu/pytorch_gpu_base_ubuntu_uw2_workplace/anaconda3/envs/qc-braket/lib/python3.10/site-packages (from sympy->torch==2.1.0->-r requirement.txt (line 2)) (1.3.0)\n",
      "Requirement already satisfied: contourpy>=1.0.1 in /home/ubuntu/pytorch_gpu_base_ubuntu_uw2_workplace/anaconda3/envs/qc-braket/lib/python3.10/site-packages (from matplotlib!=3.6.1,>=3.3->seaborn->PyTDC==0.4.1->-r requirement.txt (line 1)) (1.2.0)\n",
      "Requirement already satisfied: cycler>=0.10 in /home/ubuntu/pytorch_gpu_base_ubuntu_uw2_workplace/anaconda3/envs/qc-braket/lib/python3.10/site-packages (from matplotlib!=3.6.1,>=3.3->seaborn->PyTDC==0.4.1->-r requirement.txt (line 1)) (0.12.1)\n",
      "Requirement already satisfied: fonttools>=4.22.0 in /home/ubuntu/pytorch_gpu_base_ubuntu_uw2_workplace/anaconda3/envs/qc-braket/lib/python3.10/site-packages (from matplotlib!=3.6.1,>=3.3->seaborn->PyTDC==0.4.1->-r requirement.txt (line 1)) (4.47.0)\n",
      "Requirement already satisfied: kiwisolver>=1.3.1 in /home/ubuntu/pytorch_gpu_base_ubuntu_uw2_workplace/anaconda3/envs/qc-braket/lib/python3.10/site-packages (from matplotlib!=3.6.1,>=3.3->seaborn->PyTDC==0.4.1->-r requirement.txt (line 1)) (1.4.5)\n",
      "Requirement already satisfied: pyparsing>=2.3.1 in /home/ubuntu/pytorch_gpu_base_ubuntu_uw2_workplace/anaconda3/envs/qc-braket/lib/python3.10/site-packages (from matplotlib!=3.6.1,>=3.3->seaborn->PyTDC==0.4.1->-r requirement.txt (line 1)) (3.1.1)\n",
      "Requirement already satisfied: six>=1.5 in /home/ubuntu/pytorch_gpu_base_ubuntu_uw2_workplace/anaconda3/envs/qc-braket/lib/python3.10/site-packages (from python-dateutil>=2.8.2->pandas->PyTDC==0.4.1->-r requirement.txt (line 1)) (1.16.0)\n",
      "Installing collected packages: python-dotenv\n",
      "Successfully installed python-dotenv-1.0.0\n"
     ]
    }
   ],
   "source": [
    "!pip install -r requirement.txt"
   ]
  },
  {
   "cell_type": "code",
   "execution_count": 6,
   "id": "95cab932",
   "metadata": {},
   "outputs": [],
   "source": [
    "from braket.experimental.algorithms.qc_qrl.utility.RetroRLAgent import RetroRLAgent"
   ]
  },
  {
   "cell_type": "code",
   "execution_count": 14,
   "id": "20f51aa3-fd12-48fc-95cc-adb021095850",
   "metadata": {},
   "outputs": [],
   "source": [
    "# set up .env files to access your s3 bucket, you can put your environment variables in a local .env file\n",
    "from dotenv import load_dotenv\n",
    "import os\n",
    "load_dotenv()\n",
    "# please change the following s3 bucket to the one you can upload and download data\n",
    "s3_bucket_name = os.environ.get('AWS_S3_BUCKET_NAME', '')"
   ]
  },
  {
   "cell_type": "code",
   "execution_count": 15,
   "id": "f9017088",
   "metadata": {},
   "outputs": [],
   "source": [
    "agent_param = {}\n",
    "# initial the RetroRLModel object\n",
    "init_param = {}\n",
    "method = ['retro-rl', 'retro-qrl']\n",
    "\n",
    "for mt in method:\n",
    "    if mt == 'retro-rl':\n",
    "        init_param[mt] = {}\n",
    "        init_param[mt]['param'] = ['inputsize', 'middlesize', 'outputsize']\n",
    "    elif mt == 'retro-qrl':\n",
    "        init_param[mt] = {}\n",
    "        init_param[mt]['param'] = ['n_qubits', 'device', 'framework', 'shots', 'layers']\n",
    "    \n",
    "# retro_rl_model = RetroRLModel(data=None, method=method, **init_param)\n",
    "agent_param['init_param'] = init_param"
   ]
  },
  {
   "cell_type": "code",
   "execution_count": 18,
   "id": "976f381a-edcf-4710-b4dc-b3b8be043b24",
   "metadata": {},
   "outputs": [],
   "source": [
    "# train_mode can be: \"local-instance\", \"local-job\", \"hybrid-job\"\n",
    "train_mode = \"hybrid-job\"\n",
    "\n",
    "data_path = 'data'\n",
    "s3_data_path = None\n",
    "if train_mode == \"local-job\" or train_mode == \"hybrid-job\":\n",
    "    s3_data_path = f\"{s3_bucket_name}/data\"\n",
    "    import os\n",
    "    os.system(f\"aws s3 sync {data_path} {s3_data_path}\")\n",
    "\n",
    "agent_param[\"data_path\"] = data_path\n",
    "agent_param[\"s3_data_path\"]=s3_data_path\n",
    "agent_param[\"train_mode\"] = train_mode\n",
    "agent_param[\"episodes\"] = 10"
   ]
  },
  {
   "cell_type": "code",
   "execution_count": 19,
   "id": "afccc04e-0d78-4242-aa52-13c8a903c45e",
   "metadata": {},
   "outputs": [
    {
     "name": "stdout",
     "output_type": "stream",
     "text": [
      "The agent parameters : \n",
      " {\n",
      "    \"init_param\": {\n",
      "        \"retro-rl\": {\n",
      "            \"param\": [\n",
      "                \"inputsize\",\n",
      "                \"middlesize\",\n",
      "                \"outputsize\"\n",
      "            ]\n",
      "        },\n",
      "        \"retro-qrl\": {\n",
      "            \"param\": [\n",
      "                \"n_qubits\",\n",
      "                \"device\",\n",
      "                \"framework\",\n",
      "                \"shots\",\n",
      "                \"layers\"\n",
      "            ]\n",
      "        }\n",
      "    },\n",
      "    \"data_path\": \"data\",\n",
      "    \"s3_data_path\": \"s3://amazon-braket-us-west-2-002224604296/data\",\n",
      "    \"train_mode\": \"hybrid-job\",\n",
      "    \"episodes\": 10\n",
      "}\n"
     ]
    }
   ],
   "source": [
    "import json\n",
    " \n",
    "agent_param_format = json.dumps(agent_param, indent=4)\n",
    "print(\"The agent parameters : \\n\", agent_param_format)"
   ]
  },
  {
   "attachments": {},
   "cell_type": "markdown",
   "id": "3f9deedb",
   "metadata": {},
   "source": [
    "### Compare quatum circuit and classical circuit"
   ]
  },
  {
   "cell_type": "markdown",
   "id": "48209696-d484-4a5a-a4b4-f529c14ac25e",
   "metadata": {},
   "source": [
    "First, we use the local instance to see how the classical and quantum model are different"
   ]
  },
  {
   "cell_type": "code",
   "execution_count": 20,
   "id": "7c534bab",
   "metadata": {},
   "outputs": [
    {
     "name": "stderr",
     "output_type": "stream",
     "text": [
      "INFO:root:initial reinforcement learning for retrosynthetic-planning\n",
      "INFO:root:initial quantum reinforcement learning for retrosynthetic-planning\n",
      "INFO:root:load data...\n",
      "INFO:root:build_model is True\n"
     ]
    },
    {
     "name": "stdout",
     "output_type": "stream",
     "text": [
      "initial a new agent...\n",
      "model_param is {'retro-qrl': {'n_qubits': [8], 'device': ['local'], 'framework': ['pennylane'], 'shots': [100], 'layers': [1]}}\n"
     ]
    },
    {
     "name": "stderr",
     "output_type": "stream",
     "text": [
      "INFO:root:Construct model for n_qubits:8,device:local,framework:pennylane,layers:1 0.001616509755452474 min\n"
     ]
    }
   ],
   "source": [
    "model_param={}\n",
    "method = 'retro-qrl'\n",
    "model_param[method] = {}\n",
    "model_param[method]['n_qubits'] = [8]\n",
    "# model_param[method]['device'] = ['local', 'sv1', 'aspen-m-3', 'aria-2']\n",
    "model_param[method]['device'] = ['local']\n",
    "model_param[method]['framework'] = ['pennylane']\n",
    "model_param[method]['shots'] = [100]\n",
    "model_param[method]['layers'] = [1]\n",
    "\n",
    "agent_param['model_param'] = model_param\n",
    "\n",
    "n_qubits = model_param[method]['n_qubits'][0]\n",
    "device = model_param[method]['device'][0]\n",
    "framework = model_param[method]['framework'][0]\n",
    "shots = model_param[method]['shots'][0]\n",
    "layers = model_param[method]['layers'][0]\n",
    "\n",
    "model_name = \"{}_{}_{}_{}_{}\".format(n_qubits, device, framework, shots, layers)\n",
    "agent_param[\"model_name\"] = model_name\n",
    "\n",
    "agent_param[\"train_mode\"]=\"local-instance\"\n",
    "\n",
    "if agent_param[\"train_mode\"] == \"local-instance\":\n",
    "    retro_qrl_agent = RetroRLAgent(build_model=True, method=method, **agent_param)\n",
    "else:\n",
    "    retro_qrl_agent = RetroRLAgent(build_model=False, method=method, **agent_param)"
   ]
  },
  {
   "cell_type": "code",
   "execution_count": 21,
   "id": "3ca142eb-4f31-4718-8179-f898b8f6c462",
   "metadata": {},
   "outputs": [
    {
     "name": "stdout",
     "output_type": "stream",
     "text": [
      "episode 1\n",
      "epsiode 1 training...\n",
      "finish epoch 0 for 0.032720673084259036 minutes\n",
      "finish epoch 1 for 0.031031115849812826 minutes\n",
      "episode 2\n",
      "epsiode 2 training...\n",
      "finish epoch 0 for 0.02868431806564331 minutes\n",
      "finish epoch 1 for 0.028722747166951498 minutes\n",
      "episode 3\n",
      "epsiode 3 training...\n",
      "finish epoch 0 for 0.030995488166809082 minutes\n",
      "finish epoch 1 for 0.028815452257792154 minutes\n",
      "episode 4\n",
      "epsiode 4 training...\n",
      "finish epoch 0 for 0.03098231554031372 minutes\n",
      "finish epoch 1 for 0.02873067061106364 minutes\n",
      "episode 5\n",
      "epsiode 5 training...\n",
      "finish epoch 0 for 0.02865425745646159 minutes\n",
      "finish epoch 1 for 0.03105639616648356 minutes\n",
      "episode 6\n",
      "epsiode 6 training...\n",
      "finish epoch 0 for 0.028976829846700032 minutes\n",
      "finish epoch 1 for 0.02878626585006714 minutes\n",
      "episode 7\n",
      "epsiode 7 training...\n",
      "finish epoch 0 for 0.03089030583699544 minutes\n",
      "finish epoch 1 for 0.02864804267883301 minutes\n",
      "episode 8\n",
      "epsiode 8 training...\n",
      "finish epoch 0 for 0.03100024859110514 minutes\n",
      "finish epoch 1 for 0.02872147560119629 minutes\n",
      "episode 9\n",
      "epsiode 9 training...\n",
      "finish epoch 0 for 0.0286667267481486 minutes\n",
      "finish epoch 1 for 0.030889447530110678 minutes\n"
     ]
    }
   ],
   "source": [
    "# let's run reinforcement learning for 10 episodes\n",
    "retro_qrl_agent.game_job()"
   ]
  },
  {
   "cell_type": "code",
   "execution_count": 9,
   "id": "7a2dadae-342c-48d0-9de3-a585ade733f3",
   "metadata": {},
   "outputs": [
    {
     "name": "stdout",
     "output_type": "stream",
     "text": [
      "the whole parameters of quantum circuit is 8\n"
     ]
    }
   ],
   "source": [
    "# let's see how many parameters are in this circuit model\n",
    "quantum_param_sum = 0\n",
    "for param in retro_qrl_agent.NN.parameters():\n",
    "    quantum_param_sum = quantum_param_sum + param.numel()\n",
    "print(f\"the whole parameters of quantum circuit is {quantum_param_sum}\")"
   ]
  },
  {
   "cell_type": "code",
   "execution_count": 10,
   "id": "d2869fea-56c0-40e3-81aa-404197d01952",
   "metadata": {},
   "outputs": [
    {
     "name": "stderr",
     "output_type": "stream",
     "text": [
      "INFO:root:initial reinforcement learning for retrosynthetic-planning\n",
      "INFO:root:initial quantum reinforcement learning for retrosynthetic-planning\n",
      "INFO:root:load data...\n",
      "INFO:root:build_model is True\n",
      "INFO:root:Construct model for inputsize:256,middlesize:256,outputsize:1 1.1316935221354167e-05 min\n"
     ]
    },
    {
     "name": "stdout",
     "output_type": "stream",
     "text": [
      "initial a new agent...\n",
      "model_param is {'retro-rl': {'inputsize': [256], 'middlesize': [256], 'outputsize': [1]}}\n"
     ]
    }
   ],
   "source": [
    "model_param={}\n",
    "method = 'retro-rl'\n",
    "model_param[method] = {}\n",
    "model_param[method]['inputsize'] = [256]\n",
    "model_param[method]['middlesize'] = [256]\n",
    "model_param[method]['outputsize'] = [1]\n",
    "\n",
    "agent_param['model_param'] = model_param\n",
    "model_name = f\"{model_param[method]['inputsize'][0]}_{model_param[method]['middlesize'][0]}_{model_param[method]['outputsize'][0]}\"\n",
    "agent_param[\"model_name\"] = model_name\n",
    "\n",
    "agent_param[\"train_mode\"]=\"local-instance\"\n",
    "\n",
    "if agent_param[\"train_mode\"] == \"local-instance\":\n",
    "    retro_crl_agent = RetroRLAgent(build_model=True, method=method, **agent_param)\n",
    "else:\n",
    "    retro_crl_agent = RetroRLAgent(build_model=False, method=method, **agent_param)"
   ]
  },
  {
   "cell_type": "code",
   "execution_count": 11,
   "id": "de04f775",
   "metadata": {},
   "outputs": [
    {
     "name": "stdout",
     "output_type": "stream",
     "text": [
      "the whole parameters of classical circuit is 66049\n"
     ]
    }
   ],
   "source": [
    "# let's see how many parameters are in this circuit model\n",
    "classical_param_sum = 0\n",
    "for param in retro_crl_agent.NN.parameters():\n",
    "    classical_param_sum = classical_param_sum + param.numel()\n",
    "print(f\"the whole parameters of classical circuit is {classical_param_sum}\")"
   ]
  },
  {
   "cell_type": "markdown",
   "id": "28aef275-9542-4ff9-9e28-f03185ea29bf",
   "metadata": {},
   "source": [
    "### Run reinforcement learning\n",
    "\n",
    "We now can run the reinforcement learning using classical and quantum job"
   ]
  },
  {
   "cell_type": "code",
   "execution_count": 12,
   "id": "c9092efa-242f-4805-b2aa-6776c84dc40c",
   "metadata": {},
   "outputs": [
    {
     "name": "stdout",
     "output_type": "stream",
     "text": [
      "episode 1\n",
      "epsiode 1 training...\n",
      "finish epoch 0 for 0.028112188975016276 minutes\n",
      "finish epoch 1 for 0.028143652280171714 minutes\n"
     ]
    }
   ],
   "source": [
    "retro_qrl_agent.game_job()"
   ]
  },
  {
   "cell_type": "code",
   "execution_count": 13,
   "id": "f30b853e-7621-44af-a6c2-487b56b7af0e",
   "metadata": {},
   "outputs": [
    {
     "name": "stdout",
     "output_type": "stream",
     "text": [
      "episode 1\n",
      "epsiode 1 training...\n",
      "finish epoch 0 for 3.8794676462809245e-05 minutes\n",
      "finish epoch 1 for 1.4277299245198568e-05 minutes\n"
     ]
    }
   ],
   "source": [
    "retro_crl_agent.game_job()"
   ]
  },
  {
   "cell_type": "markdown",
   "id": "b1158a5b-3c32-4648-ab1c-988f2918699d",
   "metadata": {},
   "source": [
    "### Compare results in terms of number of parameters and loss\n",
    "\n",
    "We can compare the number of parameters of classical circuit and the loss curve. It can be shown that although the number of quantum \n",
    "circuit is very small, it can still decrease the loss value"
   ]
  }
 ],
 "metadata": {
  "kernelspec": {
   "display_name": "Python 3 (ipykernel)",
   "language": "python",
   "name": "python3"
  },
  "language_info": {
   "codemirror_mode": {
    "name": "ipython",
    "version": 3
   },
   "file_extension": ".py",
   "mimetype": "text/x-python",
   "name": "python",
   "nbconvert_exporter": "python",
   "pygments_lexer": "ipython3",
   "version": "3.10.13"
  }
 },
 "nbformat": 4,
 "nbformat_minor": 5
}
